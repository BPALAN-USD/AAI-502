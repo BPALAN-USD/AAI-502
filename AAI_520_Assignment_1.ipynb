{
  "nbformat": 4,
  "nbformat_minor": 0,
  "metadata": {
    "colab": {
      "provenance": [],
      "authorship_tag": "ABX9TyOwcM6ZU07gPVSzcMjnVa71",
      "include_colab_link": true
    },
    "kernelspec": {
      "name": "python3",
      "display_name": "Python 3"
    },
    "language_info": {
      "name": "python"
    }
  },
  "cells": [
    {
      "cell_type": "markdown",
      "metadata": {
        "id": "view-in-github",
        "colab_type": "text"
      },
      "source": [
        "<a href=\"https://colab.research.google.com/github/BPALAN-USD/AAI-502/blob/main/AAI_520_Assignment_1.ipynb\" target=\"_parent\"><img src=\"https://colab.research.google.com/assets/colab-badge.svg\" alt=\"Open In Colab\"/></a>"
      ]
    },
    {
      "cell_type": "markdown",
      "source": [
        "### **1. Importing all the required libraries**"
      ],
      "metadata": {
        "id": "wYTjOMGvVKmf"
      }
    },
    {
      "cell_type": "code",
      "execution_count": 40,
      "metadata": {
        "id": "N1YLCQQCUew3"
      },
      "outputs": [],
      "source": [
        "import pandas as pd\n",
        "import zipfile\n",
        "import matplotlib.pyplot as plt\n",
        "import nltk\n",
        "import time\n",
        "from nltk.corpus import stopwords\n",
        "from nltk.stem import PorterStemmer, WordNetLemmatizer\n",
        "from nltk.tokenize import word_tokenize\n",
        "from nltk import pos_tag\n",
        "from sklearn.feature_extraction.text import CountVectorizer, TfidfVectorizer\n",
        "import spacy\n",
        "\n"
      ]
    },
    {
      "cell_type": "markdown",
      "source": [
        "### **2. Load data from CSV file into Dataframe**"
      ],
      "metadata": {
        "id": "IjxezFR9VPKl"
      }
    },
    {
      "cell_type": "code",
      "source": [
        "# filename\n",
        "filename_train = \"BBCNewsTrain.csv.zip\"   # adjust if needed\n",
        "\n",
        "# Unzip and read CSV\n",
        "with zipfile.ZipFile(filename_train, 'r') as z:\n",
        "    # list files inside zip\n",
        "    print(\"Files inside zip:\", z.namelist())\n",
        "    # read first file in zip into dataframe\n",
        "    with z.open(z.namelist()[0]) as f:\n",
        "        df_train = pd.read_csv(f)\n",
        "\n",
        "# Preview dataset\n",
        "print(df_train.head())\n",
        "print(\"\\nCategories distribution:\\n\", df_train['Category'].value_counts())\n"
      ],
      "metadata": {
        "colab": {
          "base_uri": "https://localhost:8080/"
        },
        "id": "tBD4VtfDVD8a",
        "outputId": "624067dd-11b8-4fc3-ca46-57596187deb5"
      },
      "execution_count": 17,
      "outputs": [
        {
          "output_type": "stream",
          "name": "stdout",
          "text": [
            "Files inside zip: ['BBC News Train.csv']\n",
            "   ArticleId                                               Text  Category\n",
            "0       1833  worldcom ex-boss launches defence lawyers defe...  business\n",
            "1        154  german business confidence slides german busin...  business\n",
            "2       1101  bbc poll indicates economic gloom citizens in ...  business\n",
            "3       1976  lifestyle  governs mobile choice  faster  bett...      tech\n",
            "4        917  enron bosses in $168m payout eighteen former e...  business\n",
            "\n",
            "Categories distribution:\n",
            " Category\n",
            "sport            346\n",
            "business         336\n",
            "politics         274\n",
            "entertainment    273\n",
            "tech             261\n",
            "Name: count, dtype: int64\n"
          ]
        }
      ]
    },
    {
      "cell_type": "markdown",
      "source": [
        "### 3. Data Exploration\n",
        "\n",
        "\n",
        "\n",
        "1.   Display Basic Statistics\n",
        "2.   Visualize Article Distribution by Category\n",
        "\n",
        "3.   Display Sample Article by each Category.\n"
      ],
      "metadata": {
        "id": "K9CLyP_HVkQE"
      }
    },
    {
      "cell_type": "code",
      "source": [
        "# 1. Display Basic Statistics\n",
        "print(\"\\nDataset Info:\")\n",
        "print(df_train.info())\n",
        "#print(\"\\nCategory Distribution:\")\n",
        "#print(df_train['Category'].value_counts())\n",
        "print(\"\\nMissing values:\")\n",
        "print(df_train.isnull().sum())\n",
        "\n",
        "# 2. Visualize Article Distribution by Category\n",
        "plt.figure(figsize=(8,5))\n",
        "df_train['Category'].value_counts().plot(kind='bar', color='green', edgecolor='black')\n",
        "plt.title(\"Article Distribution by Category\")\n",
        "plt.xlabel(\"Category\")\n",
        "plt.ylabel(\"Count of Articles\")\n",
        "#plt.xticks(rotation=45)\n",
        "plt.show()\n",
        "\n",
        "# 3. Display sample articles from each category\n",
        "for category in df_train['Category'].unique():\n",
        "    print(\"=\"*80)\n",
        "    print(f\"Category: {category}\")\n",
        "    sample_text = df_train[df_train['Category'] == category].sample(1, random_state=42)['Text'].values[0]\n",
        "    print(sample_text)  # show first 500 chars for readability"
      ],
      "metadata": {
        "colab": {
          "base_uri": "https://localhost:8080/",
          "height": 1000
        },
        "id": "hNd6cRkaUxDk",
        "outputId": "c0e3aa2e-a972-4a70-8492-b5bdcb9f2d1b"
      },
      "execution_count": 25,
      "outputs": [
        {
          "output_type": "stream",
          "name": "stdout",
          "text": [
            "\n",
            "Dataset Info:\n",
            "<class 'pandas.core.frame.DataFrame'>\n",
            "RangeIndex: 1490 entries, 0 to 1489\n",
            "Data columns (total 3 columns):\n",
            " #   Column     Non-Null Count  Dtype \n",
            "---  ------     --------------  ----- \n",
            " 0   ArticleId  1490 non-null   int64 \n",
            " 1   Text       1490 non-null   object\n",
            " 2   Category   1490 non-null   object\n",
            "dtypes: int64(1), object(2)\n",
            "memory usage: 35.1+ KB\n",
            "None\n",
            "\n",
            "Missing values:\n",
            "ArticleId    0\n",
            "Text         0\n",
            "Category     0\n",
            "dtype: int64\n"
          ]
        },
        {
          "output_type": "display_data",
          "data": {
            "text/plain": [
              "<Figure size 800x500 with 1 Axes>"
            ],
            "image/png": "[encoded data removed]"
          },
          "metadata": {}
        },
        {
          "output_type": "stream",
          "name": "stdout",
          "text": [
            "================================================================================\n",
            "Category: business\n",
            "nasdaq planning $100m share sale the owner of the technology-dominated nasdaq stock index plans to sell shares to the public and list itself on the market it operates.  according to a registration document filed with the securities and exchange commission  nasdaq stock market plans to raise $100m (£52m) from the sale. some observers see this as another step closer to a full public listing. however nasdaq  an icon of the 1990s technology boom  recently poured cold water on those suggestions.  the company first sold shares in private placements during 2000 and 2001. it technically went public in 2002 when the stock started trading on the otc bulletin board  which lists equities that trade only occasionally. nasdaq will not make money from the sale  only investors who bought shares in the private placings  the filing documents said. the nasdaq is made up shares in technology firms and other companies with high growth potential. it was the most potent symbol of the 1990s internet and telecoms boom  nose-diving after the bubble burst. a recovery in the fortunes of tech giants such as intel  and dot.com survivors such as amazon has helped revive its fortunes.\n",
            "================================================================================\n",
            "Category: tech\n",
            "reboot ordered for eu patent law a european parliament committee has ordered a rewrite of the proposals for controversial new european union rules which govern computer-based inventions.  the legal affairs committee (juri) said the commission should re-submit the computer implemented inventions directive after meps failed to back it. it has had vocal critics who say it could favour large over small firms and impact open-source software innovation. supporters say it would let firms protect their inventions. the directive is intended to offer patent protection to inventions that use software to achieve their effect  in other words   computer implemented invention . the draft law suffered setbacks when poland  one of the largest eu member states  rejected its adoption twice in two months. intense lobbying on the issue has started to gain momentum in some national parliaments putting them under immense pressure. only two meps backed the draft law at the juri meeting  with one voting to abstain.  opponents of the draft directive welcomed the decision and said a new first reading of the proposals would give the eu a chance to have fuller debates about its implications in all member states. in the us  the patenting of computer programs and internet business methods is permitted. this means that the us-based amazon.com holds a patent for its  one-click shopping  service  for example. critics are concerned that the directive could lead to a similar model happening in europe. this  they fear  could hurt small software developers because they do not have the legal and financial might of larger companies if they had to fight patent legal action in court. supporters say current laws are inefficient and it would serve to even up a playing field without bringing eu laws in line with the us.\n",
            "================================================================================\n",
            "Category: politics\n",
            "new  yob  targets to be unveiled fifty new areas getting special help to fight anti-social behaviour in england and wales will be named on thursday.  ten areas have already had access to special prosecutors and local experts and the government is now expanding the crackdown to more towns and cities. details of how many anti-social behaviour orders (asbos) were used in the last year are also being published. labour sees nuisance behaviour as a key election issue but critics claim the record is at best patchy. a year ago  ministers launched their anti-social behaviour plan and thursday s figures offer a progress check. they will say that in the past year more than 2 600 anti-social behaviour orders were issued by the courts - more than double the total used in the previous four years.  police have also closed 150 crack houses and issued more than 400 dispersal orders  breaking up groups of youths in public places. the 50 new pilot areas to get special attention will also receive extra government funding. exeter and cardiff are among cities who have voiced interest in being involved.  prime minister tony blair is also expected to announce new measures to strengthen the use of asbos and fixed penalty notices. there are still concerns that some areas of the country are not using the powers properly.  he is expected to say that the new figures were heartening but he would not rest until similar action was taken in all areas of the country where it was needed.  we have not defeated this problem by any means  but shown together what can be done   he will say. mr blair this week defended the shake-up of the licensing laws  saying it was right to focus on troublemakers rather than treating everybody as a potential drunken nuisance.  ministers also boast of record police numbers and are speeding up plans to put in place 25 000 community support officers (csos). but researchers from leeds university warned that csos could undermine traditional bonds between police officers and communities. more work needed to be done on clarifying the role of different agencies and how they linked together before csos  they argued in a the study. critics of the government say it has announced more than 20 initiatives to tackle nuisance behaviour when the real focus should be on good policing. home office minister hazel blears also revealed this week that  about a third  of asbos were breached - with some people jailed and others not.\n",
            "================================================================================\n",
            "Category: sport\n",
            "collins to compete in birmingham world and commonwealth 100m champion kim collins will compete in the 60m at the norwich union grand prix in birmingham on 18 february.  the st kitts and nevis star joins british olympic relay gold medallists jason gardener and mark lewis-francis. sydney olympic 100m champion and world indoor record holder maurice greene and athens olympic 100m silver medallist francis obikwelu will also take part. collins ran in birmingham at the 2003 world indoor championships.  i m looking forward to competing against such a strong field   he said.  i got a great reception form the crowd at the nia when i won my 60m world indoor silver medal in 2003 and it will be really exciting to return to this venue.  the world champion says he s in good shape but he isn t underestimating the home competition.  jason gardener and mark lewis-francis are olympic gold medallists now and i m sure they ll be aiming to win in front of their home supporters.  i m looking forward to competing against britain s best sprinters and i m sure the 60 metres will be one of the most exciting races of the evening.  collins was sixth in the olympic final in athens but is hoping for a better result at the world championships in finland this summer.  this will be a big year for me and i plan to defend my 100m world title in helsinki in august. before then i want to perform well over 60m indoors and start my year in winning form.\n",
            "================================================================================\n",
            "Category: entertainment\n",
            "the producers scoops stage awards the producers has beaten mary poppins in the battle of the blockbuster west end musicals at the olivier awards.  the producers won three prizes at the uk s most prestigious annual theatre awards  while mary poppins won two. mel brooks  hit show triumphed in the battle for best new musical  where it was up against mary poppins and andrew lloyd webber s the woman in white. alan bennett s the history boys was the big winner in the straight theatre categories  picking up three trophies. but all eyes were on the musical prizes after the producers  mary poppins and the woman in white all had high-profile openings in the last six months.  the producers  nathan lane  a last-minute replacement for richard dreyfuss  beat his former co-star lee evans to win best musical actor. lane has already left the production. a smash hit on broadway before moving to london  the show also won best musical performance in a supporting role for conleth hill  who plays director roger debris. mary poppins  awards came for best choreography and best musical actress for its star laura michelle kelly. it led the nominations going into sunday s ceremony at london s hilton hotel  up for nine awards. both shows are stage adaptations of 1960s films. the history boys  set in a grammar school in the early 1980s and partly based on bennett s experiences as a teacher  was named best new play.  it also won best actor for richard griffiths  who beat his harry potter film co-star michael gambon  nominated for endgame  as well as jonathan pryce and ben whishaw. the play also won national theatre artistic director nicholas hytner best director and bennett got a special award for outstanding contribution to british theatre. dame judi dench  who starred in all s well that ends well at the gielgud  lost out in the best supporting role category to amanda harris  who played emilia in othello for the royal shakespeare company. the olivier awards have been handed out by the society of london since 1976.  - best lighting design - his dark materials designed by paule constable at the olivier   - best sound design - the woman in white designed by mick potter at the palace   - best new opera - lady macbeth of mtsensk at the royal opera house   - outstanding achievement in opera - thomas ades and the royal opera house for the world premiere of the tempest   - best costume design - all s well that ends well designed by deirdre clancy at the gielgud   - best revival - hamlet by william shakespeare at the old vic   - best set design - his dark materials designed by giles cadle at the olivier   - outstanding musical production - grand hotel at the donmar warehouse   - best supporting role in a musical - conleth hill for the producers at theatre royal  drury lane   - best theatre choreographer - matthew bourne and stephen mear for mary poppins at the prince edward   - best actor - richard griffiths for the history boys at the lyttelton   - outstanding achievement or performance in an affiliate theatre - andrew scott for a girl in a car with a man at the jerwood theatre upstairs at the royal court   - best new dance production - rambert dance company s swamp at sadler s wells   - outstanding achievement in dance - san francisco ballet for their season at sadler s wells   - best performance in a supporting role - amanda harris for othello at trafalgar studios   - best actress - clare higgins for hecuba at the donmar warehouse   - best musical actor - nathan lane for the producers at theatre royal  drury lane   - best musical actress - laura michelle kelly for mary poppins at the prince edward   - best director - nicholas hytner for the history boys at the lyttelton   - best new play - the history boys by alan bennett at the lyttelton   - best new musical - the producers at theatre royal  drury lane   - special award - alan bennett for his outstanding contribution to british theatre\n"
          ]
        }
      ]
    },
    {
      "cell_type": "markdown",
      "source": [
        "### 4. Text Pre-Processing\n",
        "\n",
        "Create and compare 2 preprocessing pipelines:\n",
        "\n",
        "\n",
        "1.   Basic: tokenization + lowercasing + stop word removal\n",
        "2.   Advanced: Basic + stemming + lemmatization + POS filtering. Compare vocabulary size and processing time for both approaches..\n"
      ],
      "metadata": {
        "id": "XFlPey7ibrNR"
      }
    },
    {
      "cell_type": "code",
      "source": [
        "# Download resources if not already\n",
        "nltk.download(\"punkt\")\n",
        "nltk.download(\"punkt_tab\")\n",
        "nltk.download(\"stopwords\")\n",
        "nltk.download(\"wordnet\")\n",
        "nltk.download(\"averaged_perceptron_tagger\")\n",
        "nltk.download(\"averaged_perceptron_tagger_eng\")\n",
        "\n",
        "\n",
        "\n",
        "stop_words = set(stopwords.words(\"english\"))\n",
        "stemmer = PorterStemmer()\n",
        "lemmatizer = WordNetLemmatizer()"
      ],
      "metadata": {
        "colab": {
          "base_uri": "https://localhost:8080/"
        },
        "id": "c_uCIGWDcBg8",
        "outputId": "b2ae8979-8c13-48a3-a5e9-c7cf2340bbec"
      },
      "execution_count": 33,
      "outputs": [
        {
          "output_type": "stream",
          "name": "stderr",
          "text": [
            "[nltk_data] Downloading package punkt to /root/nltk_data...\n",
            "[nltk_data]   Package punkt is already up-to-date!\n",
            "[nltk_data] Downloading package punkt_tab to /root/nltk_data...\n",
            "[nltk_data]   Package punkt_tab is already up-to-date!\n",
            "[nltk_data] Downloading package stopwords to /root/nltk_data...\n",
            "[nltk_data]   Package stopwords is already up-to-date!\n",
            "[nltk_data] Downloading package wordnet to /root/nltk_data...\n",
            "[nltk_data]   Package wordnet is already up-to-date!\n",
            "[nltk_data] Downloading package averaged_perceptron_tagger to\n",
            "[nltk_data]     /root/nltk_data...\n",
            "[nltk_data]   Package averaged_perceptron_tagger is already up-to-\n",
            "[nltk_data]       date!\n",
            "[nltk_data] Downloading package averaged_perceptron_tagger_eng to\n",
            "[nltk_data]     /root/nltk_data...\n",
            "[nltk_data]   Unzipping taggers/averaged_perceptron_tagger_eng.zip.\n"
          ]
        }
      ]
    },
    {
      "cell_type": "code",
      "source": [
        "## Pre-Process Basic Pipeline\n",
        "def preprocess_basic_pipeline(text):\n",
        "    tokens = word_tokenize(text.lower()) ## Tokenize + Lowercasing\n",
        "    return [w for w in tokens if w.isalpha() and w not in stop_words] ## Stop Words removal\n",
        "\n",
        "## This we need because\n",
        "## WordNetLemmatizer POS tags in a different format ('n', 'v', 'a', 'r'),\n",
        "## while pos_tag outputs Penn Treebank tags (NN, VB, JJ, RB etc.).\n",
        "\n",
        "def get_wordnet_pos(tag):\n",
        "    \"\"\"Map POS tag to WordNet POS for lemmatizer\"\"\"\n",
        "    if tag.startswith(\"J\"):\n",
        "        return \"a\"  # adjective\n",
        "    elif tag.startswith(\"V\"):\n",
        "        return \"v\"  # verb\n",
        "    elif tag.startswith(\"N\"):\n",
        "        return \"n\"  # noun\n",
        "    elif tag.startswith(\"R\"):\n",
        "        return \"r\"  # adverb\n",
        "    else:\n",
        "        return None\n",
        "\n",
        "## Pre-Process Advance Pipeline\n",
        "def preprocess_advanced_pipeline(text):\n",
        "    tokens = word_tokenize(text.lower())\n",
        "    tokens = [w for w in tokens if w.isalpha() and w not in stop_words]\n",
        "\n",
        "    # POS tagging\n",
        "    pos_tags = pos_tag(tokens)\n",
        "\n",
        "    processed = []\n",
        "    for word, tag in pos_tags:\n",
        "        wn_pos = get_wordnet_pos(tag)\n",
        "        if wn_pos:  # keep only selected POS\n",
        "            lemma = lemmatizer.lemmatize(word, pos=wn_pos)\n",
        "            stemmed = stemmer.stem(lemma)\n",
        "            processed.append(stemmed)\n",
        "    return processed\n"
      ],
      "metadata": {
        "id": "aVfcyeKqcN-v"
      },
      "execution_count": 37,
      "outputs": []
    },
    {
      "cell_type": "code",
      "source": [
        "# BASIC\n",
        "start = time.time()\n",
        "basic_tokens = df_train[\"Text\"].apply(preprocess_basic_pipeline)\n",
        "basic_vocab = set([w for tokens in basic_tokens for w in tokens])\n",
        "basic_time = time.time() - start\n",
        "\n",
        "# ADVANCED\n",
        "start = time.time()\n",
        "adv_tokens = df_train[\"Text\"].apply(preprocess_advanced_pipeline)\n",
        "adv_vocab = set([w for tokens in adv_tokens for w in tokens])\n",
        "adv_time = time.time() - start\n",
        "\n",
        "# Comparison results\n",
        "print(\"===== Comparison =====\")\n",
        "print(f\"Basic vocab size:     {len(basic_vocab)}\")\n",
        "print(f\"Advanced vocab size:  {len(adv_vocab)}\")\n",
        "print(f\"Basic processing time: {basic_time:.2f} sec\")\n",
        "print(f\"Advanced processing time: {adv_time:.2f} sec\")\n"
      ],
      "metadata": {
        "colab": {
          "base_uri": "https://localhost:8080/"
        },
        "id": "gAg3OqYScV6z",
        "outputId": "f4296a88-8dff-4c37-97c8-236b7bd1be9e"
      },
      "execution_count": 38,
      "outputs": [
        {
          "output_type": "stream",
          "name": "stdout",
          "text": [
            "===== Comparison =====\n",
            "Basic vocab size:     22996\n",
            "Advanced vocab size:  15457\n",
            "Basic processing time: 2.97 sec\n",
            "Advanced processing time: 27.61 sec\n"
          ]
        }
      ]
    },
    {
      "cell_type": "markdown",
      "source": [
        "### 4. Text Vectorization\n",
        "\n",
        "Implement and compare:\n",
        "- Bag of Words (CountVectorizer)\n",
        "- TF-IDF (TfidfVectorizer)\n",
        "- Word2Vec (both CBoW and Skip-gram, average word vectors for documents). Create visualizations comparing the methods."
      ],
      "metadata": {
        "id": "hH4Z-jIqfkCm"
      }
    },
    {
      "cell_type": "code",
      "source": [
        "# Join tokens back into string per document\n",
        "docs_advance = adv_tokens.apply(lambda x: \" \".join(x))\n",
        "\n",
        "# Bag of Words\n",
        "cv = CountVectorizer()\n",
        "bow_matrix = cv.fit_transform(docs_advance)\n",
        "\n",
        "print(\"Bag of Words shape:\", bow_matrix.shape)\n",
        "\n",
        "tfidf = TfidfVectorizer()\n",
        "tfidf_matrix = tfidf.fit_transform(docs_advance)\n",
        "\n",
        "print(\"TF-IDF shape:\", tfidf_matrix.shape)\n"
      ],
      "metadata": {
        "colab": {
          "base_uri": "https://localhost:8080/"
        },
        "id": "Gjp6izUOgkI2",
        "outputId": "0b3d3c85-5f2a-47d1-ebc3-78c299b2433d"
      },
      "execution_count": 45,
      "outputs": [
        {
          "output_type": "stream",
          "name": "stdout",
          "text": [
            "Bag of Words shape: (1490, 15437)\n",
            "TF-IDF shape: (1490, 15437)\n"
          ]
        }
      ]
    },
    {
      "cell_type": "code",
      "source": [],
      "metadata": {
        "id": "l_eUXjmpf4ks"
      },
      "execution_count": null,
      "outputs": []
    }
  ]
}