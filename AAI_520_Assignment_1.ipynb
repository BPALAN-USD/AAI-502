{
  "nbformat": 4,
  "nbformat_minor": 0,
  "metadata": {
    "colab": {
      "provenance": [],
      "authorship_tag": "ABX9TyO43s2azEoKNzzE9NRwtqg3",
      "include_colab_link": true
    },
    "kernelspec": {
      "name": "python3",
      "display_name": "Python 3"
    },
    "language_info": {
      "name": "python"
    }
  },
  "cells": [
    {
      "cell_type": "markdown",
      "metadata": {
        "id": "view-in-github",
        "colab_type": "text"
      },
      "source": [
        "<a href=\"https://colab.research.google.com/github/BPALAN-USD/AAI-502/blob/main/AAI_520_Assignment_1.ipynb\" target=\"_parent\"><img src=\"https://colab.research.google.com/assets/colab-badge.svg\" alt=\"Open In Colab\"/></a>"
      ]
    },
    {
      "cell_type": "markdown",
      "source": [
        "### **1. Importing all the required libraries**"
      ],
      "metadata": {
        "id": "wYTjOMGvVKmf"
      }
    },
    {
      "cell_type": "code",
      "execution_count": 1,
      "metadata": {
        "id": "N1YLCQQCUew3"
      },
      "outputs": [],
      "source": [
        "import pandas as pd\n",
        "from sklearn.datasets import fetch_20newsgroups\n"
      ]
    },
    {
      "cell_type": "markdown",
      "source": [
        "### **2. Display all the Categories first to filter out the required one's**"
      ],
      "metadata": {
        "id": "IjxezFR9VPKl"
      }
    },
    {
      "cell_type": "code",
      "source": [
        "# Load full dataset (just metadata)\n",
        "newsgroups_all = fetch_20newsgroups(subset='all')\n",
        "\n",
        "# Show available categories\n",
        "print(\"Available categories:\\n\")\n",
        "for cat in newsgroups_all.target_names:\n",
        "    print(cat)"
      ],
      "metadata": {
        "colab": {
          "base_uri": "https://localhost:8080/"
        },
        "id": "tBD4VtfDVD8a",
        "outputId": "3c59f422-57b6-494e-8cbc-93e1462b0503"
      },
      "execution_count": 2,
      "outputs": [
        {
          "output_type": "stream",
          "name": "stdout",
          "text": [
            "Available categories:\n",
            "\n",
            "alt.atheism\n",
            "comp.graphics\n",
            "comp.os.ms-windows.misc\n",
            "comp.sys.ibm.pc.hardware\n",
            "comp.sys.mac.hardware\n",
            "comp.windows.x\n",
            "misc.forsale\n",
            "rec.autos\n",
            "rec.motorcycles\n",
            "rec.sport.baseball\n",
            "rec.sport.hockey\n",
            "sci.crypt\n",
            "sci.electronics\n",
            "sci.med\n",
            "sci.space\n",
            "soc.religion.christian\n",
            "talk.politics.guns\n",
            "talk.politics.mideast\n",
            "talk.politics.misc\n",
            "talk.religion.misc\n"
          ]
        }
      ]
    },
    {
      "cell_type": "markdown",
      "source": [
        "### **3. Fiter for only 5 categories: Business, Entertainment, Politics, Sport, Tech**"
      ],
      "metadata": {
        "id": "K9CLyP_HVkQE"
      }
    },
    {
      "cell_type": "code",
      "source": [
        "# Define categories similar to BBC dataset\n",
        "categories = ['talk.politics.misc', 'rec.sport.baseball', 'sci.electronics',\n",
        "              'comp.sys.mac.hardware', 'misc.forsale']\n",
        "\n",
        "# Fetch dataset\n",
        "newsgroups = fetch_20newsgroups(subset='all', categories=categories,\n",
        "                                remove=('headers', 'footers', 'quotes'))\n",
        "\n",
        "# Convert to DataFrame\n",
        "df = pd.DataFrame({\n",
        "    'text': newsgroups.data,\n",
        "    'category': [newsgroups.target_names[i] for i in newsgroups.target]\n",
        "})\n",
        "\n",
        "print(df.head())\n",
        "print(df['category'].value_counts())\n"
      ],
      "metadata": {
        "colab": {
          "base_uri": "https://localhost:8080/"
        },
        "id": "hNd6cRkaUxDk",
        "outputId": "538e7c77-7d65-4386-8bac-e217392b5bc3"
      },
      "execution_count": 3,
      "outputs": [
        {
          "output_type": "stream",
          "name": "stdout",
          "text": [
            "                                                text            category\n",
            "0  I have 5 full reels of Ampex 456 2\" recording ...        misc.forsale\n",
            "1                                                ...     sci.electronics\n",
            "2  \\nNo.  I do not find this conceivable.  I also...  rec.sport.baseball\n",
            "3          I am looking for a large futon and frame.        misc.forsale\n",
            "4  I have the following games for sale or trade f...        misc.forsale\n",
            "category\n",
            "rec.sport.baseball       994\n",
            "sci.electronics          984\n",
            "misc.forsale             975\n",
            "comp.sys.mac.hardware    963\n",
            "talk.politics.misc       775\n",
            "Name: count, dtype: int64\n"
          ]
        }
      ]
    }
  ]
}